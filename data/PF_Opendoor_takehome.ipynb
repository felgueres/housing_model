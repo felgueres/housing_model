{
 "cells": [
  {
   "cell_type": "code",
   "execution_count": 7,
   "metadata": {
    "collapsed": true
   },
   "outputs": [],
   "source": [
    "import pandas as pd\n",
    "import geopandas as gpd"
   ]
  },
  {
   "cell_type": "code",
   "execution_count": 5,
   "metadata": {
    "collapsed": true
   },
   "outputs": [],
   "source": [
    "df = pd.read_csv('data/data.csv')"
   ]
  },
  {
   "cell_type": "code",
   "execution_count": 10,
   "metadata": {
    "collapsed": false
   },
   "outputs": [
    {
     "data": {
      "text/html": [
       "<div>\n",
       "<table border=\"1\" class=\"dataframe\">\n",
       "  <thead>\n",
       "    <tr style=\"text-align: right;\">\n",
       "      <th></th>\n",
       "      <th>latitude</th>\n",
       "      <th>longitude</th>\n",
       "      <th>close_date</th>\n",
       "      <th>close_price</th>\n",
       "    </tr>\n",
       "  </thead>\n",
       "  <tbody>\n",
       "    <tr>\n",
       "      <th>0</th>\n",
       "      <td>1.501986</td>\n",
       "      <td>86.350685</td>\n",
       "      <td>2014-08-16 22:25:31.925431</td>\n",
       "      <td>1.302246e+06</td>\n",
       "    </tr>\n",
       "    <tr>\n",
       "      <th>1</th>\n",
       "      <td>36.367095</td>\n",
       "      <td>-98.664280</td>\n",
       "      <td>2014-08-05 06:34:00.165876</td>\n",
       "      <td>1.475045e+05</td>\n",
       "    </tr>\n",
       "    <tr>\n",
       "      <th>2</th>\n",
       "      <td>36.599284</td>\n",
       "      <td>-97.924700</td>\n",
       "      <td>2014-08-12 23:48:00.887510</td>\n",
       "      <td>1.374006e+05</td>\n",
       "    </tr>\n",
       "    <tr>\n",
       "      <th>3</th>\n",
       "      <td>67.994791</td>\n",
       "      <td>64.688589</td>\n",
       "      <td>2014-08-17 05:27:01.404296</td>\n",
       "      <td>-1.411200e+04</td>\n",
       "    </tr>\n",
       "    <tr>\n",
       "      <th>4</th>\n",
       "      <td>36.647982</td>\n",
       "      <td>-97.866100</td>\n",
       "      <td>2014-08-09 04:00:40.358242</td>\n",
       "      <td>2.391053e+05</td>\n",
       "    </tr>\n",
       "  </tbody>\n",
       "</table>\n",
       "</div>"
      ],
      "text/plain": [
       "    latitude  longitude                  close_date   close_price\n",
       "0   1.501986  86.350685  2014-08-16 22:25:31.925431  1.302246e+06\n",
       "1  36.367095 -98.664280  2014-08-05 06:34:00.165876  1.475045e+05\n",
       "2  36.599284 -97.924700  2014-08-12 23:48:00.887510  1.374006e+05\n",
       "3  67.994791  64.688589  2014-08-17 05:27:01.404296 -1.411200e+04\n",
       "4  36.647982 -97.866100  2014-08-09 04:00:40.358242  2.391053e+05"
      ]
     },
     "execution_count": 10,
     "metadata": {},
     "output_type": "execute_result"
    }
   ],
   "source": [
    "df.head()"
   ]
  },
  {
   "cell_type": "code",
   "execution_count": 16,
   "metadata": {
    "collapsed": false
   },
   "outputs": [
    {
     "name": "stdout",
     "output_type": "stream",
     "text": [
      "866.455432901\n"
     ]
    }
   ],
   "source": [
    "# SAMPLE DIST CALCULATION WITH GEOPY\n",
    "\n",
    "from geopy.distance import vincenty\n",
    "\n",
    "coord1 = (41.49008, -71.312796)\n",
    "\n",
    "coord2 = (41.499498, -81.695391)\n",
    "\n",
    "print(vincenty(coord1, coord2).kilometers)\n"
   ]
  },
  {
   "cell_type": "code",
   "execution_count": 32,
   "metadata": {
    "collapsed": false
   },
   "outputs": [
    {
     "name": "stdout",
     "output_type": "stream",
     "text": [
      "<class 'pandas.core.frame.DataFrame'>\n",
      "RangeIndex: 88042 entries, 0 to 88041\n",
      "Data columns (total 4 columns):\n",
      "latitude       88042 non-null float64\n",
      "longitude      88042 non-null float64\n",
      "close_date     88042 non-null object\n",
      "close_price    88042 non-null float64\n",
      "dtypes: float64(3), object(1)\n",
      "memory usage: 2.7+ MB\n"
     ]
    }
   ],
   "source": [
    "df.info()"
   ]
  },
  {
   "cell_type": "markdown",
   "metadata": {},
   "source": [
    "#### It'd be easier to work with a Datetime object for close_date. "
   ]
  },
  {
   "cell_type": "code",
   "execution_count": 33,
   "metadata": {
    "collapsed": false
   },
   "outputs": [
    {
     "data": {
      "text/plain": [
       "DatetimeIndex(['2014-08-16 22:25:31.925431', '2014-08-05 06:34:00.165876',\n",
       "               '2014-08-12 23:48:00.887510', '2014-08-17 05:27:01.404296',\n",
       "               '2014-08-09 04:00:40.358242', '2014-08-07 15:18:18.456538',\n",
       "               '2014-07-02 05:52:19.916181', '2014-06-24 14:25:57.049269',\n",
       "               '2014-06-14 19:50:34.953236', '2014-08-12 22:53:49.559967',\n",
       "               ...\n",
       "               '2015-06-26 10:58:01.968119', '2015-03-01 21:09:51.127320',\n",
       "               '2015-05-31 18:52:08.144573', '2014-02-16 14:42:10.066270',\n",
       "               '2015-08-26 16:32:40.090264', '2014-09-16 10:56:59.521584',\n",
       "               '2014-08-13 00:18:38.736704', '2015-02-21 15:48:06.541742',\n",
       "               '2014-06-21 17:39:15.993695', '2015-01-05 18:41:34.073452'],\n",
       "              dtype='datetime64[ns]', name=u'close_date', length=88042, freq=None)"
      ]
     },
     "execution_count": 33,
     "metadata": {},
     "output_type": "execute_result"
    }
   ],
   "source": [
    "pd.DatetimeIndex(df.close_date)"
   ]
  },
  {
   "cell_type": "code",
   "execution_count": null,
   "metadata": {
    "collapsed": true
   },
   "outputs": [],
   "source": []
  }
 ],
 "metadata": {
  "anaconda-cloud": {},
  "kernelspec": {
   "display_name": "Python [Root]",
   "language": "python",
   "name": "Python [Root]"
  },
  "language_info": {
   "codemirror_mode": {
    "name": "ipython",
    "version": 2
   },
   "file_extension": ".py",
   "mimetype": "text/x-python",
   "name": "python",
   "nbconvert_exporter": "python",
   "pygments_lexer": "ipython2",
   "version": "2.7.12"
  }
 },
 "nbformat": 4,
 "nbformat_minor": 0
}
